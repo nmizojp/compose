{
 "cells": [
  {
   "cell_type": "markdown",
   "id": "2941b66d-a683-4cad-ab0c-a32c0c2cf3fe",
   "metadata": {},
   "source": [
    "<a id='_top'></a>\n",
    "### pythonから、MariaDB への接続\n",
    "- 接続モジュールのインストール\n",
    "    - pip install mysql-connector-python\n",
    "- python 基礎的DBやりとり\n",
    "    - モジュールの読込  : import mysql.connector \n",
    "    - DBコネクション作成 : con =  mysql.connector.connect(**config)  インスタンスを生成\n",
    "    - カーソルを作成   : cursor = con.cursor( )\n",
    "    - SQLクエリを投げる   : cursor.execute(query)\n",
    "    - 結果を受け取る       : cursor.fetchall(), cursor.fetchone()等"
   ]
  },
  {
   "cell_type": "markdown",
   "id": "3be4af67-6afc-4783-b741-b77736fdba82",
   "metadata": {},
   "source": [
    "[Top >](#_top) <a id='_connect'></a>\n",
    "### mysql-connector-python"
   ]
  },
  {
   "cell_type": "code",
   "execution_count": 1,
   "id": "9f00eedc-6da4-49eb-b06e-ace3a6eb391f",
   "metadata": {
    "tags": []
   },
   "outputs": [],
   "source": [
    "# !pip install mysql-connector-python"
   ]
  },
  {
   "cell_type": "code",
   "execution_count": 2,
   "id": "da1ed44c-3f0e-4f2f-93a2-6881ca57742c",
   "metadata": {
    "tags": []
   },
   "outputs": [],
   "source": [
    "import mysql.connector"
   ]
  },
  {
   "cell_type": "code",
   "execution_count": 3,
   "id": "a0d7204b-fc25-413f-a7da-b7c8d6c83da4",
   "metadata": {
    "tags": []
   },
   "outputs": [],
   "source": [
    "# DBコネクション作成 : \n",
    "config = {\n",
    "    'host': 'db',              # url  \n",
    "    'port' : 3306,             # 接続ポート  \n",
    "    'user': 'user',            # ユーザー  \n",
    "    'password': 'pass',        #  パスワード  \n",
    "    'database' : 'sample'      # 初期接続DataBase  \n",
    "}\n",
    "con = mysql.connector.connect(**config) # インスタンスを生成\n"
   ]
  },
  {
   "cell_type": "code",
   "execution_count": 4,
   "id": "253d9fe8-c62e-46b3-aa8a-cb59086c2d53",
   "metadata": {
    "tags": []
   },
   "outputs": [
    {
     "data": {
      "text/plain": [
       "True"
      ]
     },
     "execution_count": 4,
     "metadata": {},
     "output_type": "execute_result"
    }
   ],
   "source": [
    "# 接続がされたかの確認\n",
    "con.is_connected()"
   ]
  },
  {
   "cell_type": "code",
   "execution_count": 5,
   "id": "d65d0105-f058-470c-b715-d80db7681e8f",
   "metadata": {
    "tags": []
   },
   "outputs": [],
   "source": [
    "cursor = con.cursor() # cursol を作る"
   ]
  },
  {
   "cell_type": "code",
   "execution_count": 6,
   "id": "44baee68-fd87-423b-bd4e-0c5aac7a419c",
   "metadata": {
    "tags": []
   },
   "outputs": [
    {
     "data": {
      "text/plain": [
       "[('information_schema',), ('sample',)]"
      ]
     },
     "execution_count": 6,
     "metadata": {},
     "output_type": "execute_result"
    }
   ],
   "source": [
    "# queryを投げる\n",
    "query = ''' SHOW DATABASES;'''\n",
    "cursor.execute(query)\n",
    "\n",
    "cursor.fetchall() # queryの返値を受け取る"
   ]
  },
  {
   "cell_type": "markdown",
   "id": "6eac1c26-6cd1-41ae-8ff8-a0728d708853",
   "metadata": {},
   "source": [
    "#### DataBase操作基礎\n",
    "- DataBaseの一覧を表示　　　　SHOW DATABASES\n",
    "- 利用DataBaseに移動　　　　　　　USE データベース名\n",
    "- DataBase内のtable一覧を表示　　　SHOW TABLES\n",
    "- テーブルの構造を表示   desc table名 \n",
    "- 詳しいテーブル構造を表示　SHOW FULL COLUMNS FROM　table名 \n",
    "- テーブルのレコードを表示  select 列名1 列名2 ... from table名 \n",
    "- テーブルの一部レコードを表示  select 列名1 列名2 ... from table名 where 条件式"
   ]
  },
  {
   "cell_type": "code",
   "execution_count": 7,
   "id": "2f7dfd9f-79d5-451c-99e3-c3108a7b0a8f",
   "metadata": {
    "tags": []
   },
   "outputs": [
    {
     "data": {
      "text/plain": [
       "[('information_schema',), ('sample',)]"
      ]
     },
     "execution_count": 7,
     "metadata": {},
     "output_type": "execute_result"
    }
   ],
   "source": [
    "# DataBaseの一覧を表示 queryを投げる\n",
    "query = ''' SHOW DATABASES;'''\n",
    "cursor.execute(query)\n",
    "cursor.fetchall()"
   ]
  },
  {
   "cell_type": "code",
   "execution_count": 8,
   "id": "405b9004-2344-4345-a443-7bcce8957c36",
   "metadata": {
    "tags": []
   },
   "outputs": [],
   "source": [
    "# 利用DataBaseに移動\n",
    "cursor.execute('use sample')"
   ]
  },
  {
   "cell_type": "code",
   "execution_count": 9,
   "id": "e12414d2-8fe1-4afd-9731-ea6093300f58",
   "metadata": {
    "tags": []
   },
   "outputs": [
    {
     "data": {
      "text/plain": [
       "[('iris',), ('users',)]"
      ]
     },
     "execution_count": 9,
     "metadata": {},
     "output_type": "execute_result"
    }
   ],
   "source": [
    "# データベース内のTableを表示\n",
    "cursor.execute('SHOW TABLES')\n",
    "cursor.fetchall()"
   ]
  },
  {
   "cell_type": "code",
   "execution_count": 10,
   "id": "d2626fc0-eed3-46e9-92d4-a3150b778fb9",
   "metadata": {},
   "outputs": [
    {
     "data": {
      "text/plain": [
       "[('index', 'bigint(20)', 'YES', 'MUL', None, ''),\n",
       " ('sepal_length', 'double', 'YES', '', None, ''),\n",
       " ('sepal_width', 'double', 'YES', '', None, ''),\n",
       " ('petal_length', 'double', 'YES', '', None, ''),\n",
       " ('petal_width', 'double', 'YES', '', None, ''),\n",
       " ('species', 'text', 'YES', '', None, '')]"
      ]
     },
     "execution_count": 10,
     "metadata": {},
     "output_type": "execute_result"
    }
   ],
   "source": [
    "# テーブルの構造を表示\n",
    "cursor.execute('desc iris')\n",
    "cursor.fetchall()"
   ]
  },
  {
   "cell_type": "code",
   "execution_count": 11,
   "id": "f56eb0e4-0003-4c8a-a98f-5211f2380343",
   "metadata": {},
   "outputs": [
    {
     "data": {
      "text/plain": [
       "[('id', 'int(11)', 'NO', 'PRI', None, 'auto_increment'),\n",
       " ('email', 'varchar(255)', 'NO', '', None, ''),\n",
       " ('password', 'varchar(255)', 'NO', '', None, '')]"
      ]
     },
     "execution_count": 11,
     "metadata": {},
     "output_type": "execute_result"
    }
   ],
   "source": [
    "# テーブルの構造を表示\n",
    "cursor.execute('desc users')\n",
    "cursor.fetchall()"
   ]
  },
  {
   "cell_type": "code",
   "execution_count": 12,
   "id": "c850e803-f2d0-4b59-b7bd-52e15c5c12b1",
   "metadata": {
    "tags": []
   },
   "outputs": [
    {
     "data": {
      "text/plain": [
       "[(1, 'webmaster@python.org', 'very-secret'),\n",
       " (2, 'adominsAA@aaa.com', 'goodpassword'),\n",
       " (3, 'webAdm2@test.org', 'good-secret2'),\n",
       " (4, 'webmaster3@pytest.com', 'very-secret3'),\n",
       " (5, 'users4@mypage.jp', 'secret4'),\n",
       " (6, 'web5@mypage.jp', 'no-secret5')]"
      ]
     },
     "execution_count": 12,
     "metadata": {},
     "output_type": "execute_result"
    }
   ],
   "source": [
    "# queryを投げる\n",
    "query = '''SELECT * FROM users'''\n",
    "cursor.execute(query)\n",
    "cursor.fetchall()"
   ]
  },
  {
   "cell_type": "code",
   "execution_count": 13,
   "id": "bc4ee9e2-35c4-4463-83c3-ea3b8eb5d052",
   "metadata": {
    "tags": []
   },
   "outputs": [],
   "source": [
    "# data を insert 実行時 data を変更\n",
    "data = [['adominsBB@aaa.com', 'goodpassword'],\n",
    "          ['webAdm8@test.org', 'good-secret2'],\n",
    "          ['webmaster9@pytest.com', 'very-secret3'],\n",
    "          ['users10@mypage.jp', 'secret4'],\n",
    "          ['web11@mypage.jp', 'no-secret5']]\n",
    "sql = '''INSERT INTO users\n",
    "(email, password)\n",
    "VALUES (%s, %s)'''\n",
    "\n",
    "cursor.executemany(sql, data)\n",
    "con.commit()"
   ]
  },
  {
   "cell_type": "code",
   "execution_count": 14,
   "id": "22efc209-7109-4fd1-9834-8f2897cd3734",
   "metadata": {
    "tags": []
   },
   "outputs": [
    {
     "data": {
      "text/plain": [
       "[(1, 'webmaster@python.org', 'very-secret'),\n",
       " (2, 'adominsAA@aaa.com', 'goodpassword'),\n",
       " (3, 'webAdm2@test.org', 'good-secret2'),\n",
       " (4, 'webmaster3@pytest.com', 'very-secret3'),\n",
       " (5, 'users4@mypage.jp', 'secret4'),\n",
       " (6, 'web5@mypage.jp', 'no-secret5'),\n",
       " (7, 'adominsBB@aaa.com', 'goodpassword'),\n",
       " (8, 'webAdm8@test.org', 'good-secret2'),\n",
       " (9, 'webmaster9@pytest.com', 'very-secret3'),\n",
       " (10, 'users10@mypage.jp', 'secret4'),\n",
       " (11, 'web11@mypage.jp', 'no-secret5')]"
      ]
     },
     "execution_count": 14,
     "metadata": {},
     "output_type": "execute_result"
    }
   ],
   "source": [
    "# queryを投げる　全レコードを表示\n",
    "query = '''SELECT * FROM users'''\n",
    "cursor.execute(query)\n",
    "cursor.fetchall()"
   ]
  },
  {
   "cell_type": "code",
   "execution_count": 20,
   "id": "52eab69b-534a-4ee1-a855-45ec020f66d8",
   "metadata": {
    "tags": []
   },
   "outputs": [
    {
     "data": {
      "text/plain": [
       "[(100, 6.3, 3.3, 6.0, 2.5, 'virginica'),\n",
       " (101, 5.8, 2.7, 5.1, 1.9, 'virginica'),\n",
       " (102, 7.1, 3.0, 5.9, 2.1, 'virginica'),\n",
       " (103, 6.3, 2.9, 5.6, 1.8, 'virginica'),\n",
       " (104, 6.5, 3.0, 5.8, 2.2, 'virginica'),\n",
       " (105, 7.6, 3.0, 6.6, 2.1, 'virginica'),\n",
       " (106, 4.9, 2.5, 4.5, 1.7, 'virginica'),\n",
       " (107, 7.3, 2.9, 6.3, 1.8, 'virginica'),\n",
       " (108, 6.7, 2.5, 5.8, 1.8, 'virginica'),\n",
       " (109, 7.2, 3.6, 6.1, 2.5, 'virginica'),\n",
       " (110, 6.5, 3.2, 5.1, 2.0, 'virginica'),\n",
       " (111, 6.4, 2.7, 5.3, 1.9, 'virginica'),\n",
       " (112, 6.8, 3.0, 5.5, 2.1, 'virginica'),\n",
       " (113, 5.7, 2.5, 5.0, 2.0, 'virginica'),\n",
       " (114, 5.8, 2.8, 5.1, 2.4, 'virginica'),\n",
       " (115, 6.4, 3.2, 5.3, 2.3, 'virginica'),\n",
       " (116, 6.5, 3.0, 5.5, 1.8, 'virginica'),\n",
       " (117, 7.7, 3.8, 6.7, 2.2, 'virginica'),\n",
       " (118, 7.7, 2.6, 6.9, 2.3, 'virginica'),\n",
       " (119, 6.0, 2.2, 5.0, 1.5, 'virginica'),\n",
       " (120, 6.9, 3.2, 5.7, 2.3, 'virginica'),\n",
       " (121, 5.6, 2.8, 4.9, 2.0, 'virginica'),\n",
       " (122, 7.7, 2.8, 6.7, 2.0, 'virginica'),\n",
       " (123, 6.3, 2.7, 4.9, 1.8, 'virginica'),\n",
       " (124, 6.7, 3.3, 5.7, 2.1, 'virginica'),\n",
       " (125, 7.2, 3.2, 6.0, 1.8, 'virginica'),\n",
       " (126, 6.2, 2.8, 4.8, 1.8, 'virginica'),\n",
       " (127, 6.1, 3.0, 4.9, 1.8, 'virginica'),\n",
       " (128, 6.4, 2.8, 5.6, 2.1, 'virginica'),\n",
       " (129, 7.2, 3.0, 5.8, 1.6, 'virginica'),\n",
       " (130, 7.4, 2.8, 6.1, 1.9, 'virginica'),\n",
       " (131, 7.9, 3.8, 6.4, 2.0, 'virginica'),\n",
       " (132, 6.4, 2.8, 5.6, 2.2, 'virginica'),\n",
       " (133, 6.3, 2.8, 5.1, 1.5, 'virginica'),\n",
       " (134, 6.1, 2.6, 5.6, 1.4, 'virginica'),\n",
       " (135, 7.7, 3.0, 6.1, 2.3, 'virginica'),\n",
       " (136, 6.3, 3.4, 5.6, 2.4, 'virginica'),\n",
       " (137, 6.4, 3.1, 5.5, 1.8, 'virginica'),\n",
       " (138, 6.0, 3.0, 4.8, 1.8, 'virginica'),\n",
       " (139, 6.9, 3.1, 5.4, 2.1, 'virginica'),\n",
       " (140, 6.7, 3.1, 5.6, 2.4, 'virginica'),\n",
       " (141, 6.9, 3.1, 5.1, 2.3, 'virginica'),\n",
       " (142, 5.8, 2.7, 5.1, 1.9, 'virginica'),\n",
       " (143, 6.8, 3.2, 5.9, 2.3, 'virginica'),\n",
       " (144, 6.7, 3.3, 5.7, 2.5, 'virginica'),\n",
       " (145, 6.7, 3.0, 5.2, 2.3, 'virginica'),\n",
       " (146, 6.3, 2.5, 5.0, 1.9, 'virginica'),\n",
       " (147, 6.5, 3.0, 5.2, 2.0, 'virginica'),\n",
       " (148, 6.2, 3.4, 5.4, 2.3, 'virginica'),\n",
       " (149, 5.9, 3.0, 5.1, 1.8, 'virginica')]"
      ]
     },
     "execution_count": 20,
     "metadata": {},
     "output_type": "execute_result"
    }
   ],
   "source": [
    "# queryを投げる　全レコードを表示\n",
    "query = '''SELECT * FROM iris WHERE species='virginica'; '''\n",
    "cursor.execute(query)\n",
    "cursor.fetchall()"
   ]
  },
  {
   "cell_type": "code",
   "execution_count": null,
   "id": "fcf1bf9c-3d47-41a2-b8e2-3530419ca01b",
   "metadata": {},
   "outputs": [],
   "source": []
  },
  {
   "cell_type": "code",
   "execution_count": null,
   "id": "a8cb5f35-f95d-42f0-b95d-6d1b04fe687a",
   "metadata": {
    "tags": []
   },
   "outputs": [],
   "source": [
    "cursor.close()                   # カーソルを閉じる\n",
    "con.close()                # 接続を終える"
   ]
  },
  {
   "cell_type": "code",
   "execution_count": null,
   "id": "9781486d-adca-4e19-86f0-3f48362950b2",
   "metadata": {},
   "outputs": [],
   "source": []
  },
  {
   "cell_type": "markdown",
   "id": "68041b04-a1df-4f13-977b-7c3e7279da44",
   "metadata": {},
   "source": [
    "***\n",
    "[Top >](#_top) <a id='_pandas'></a>\n",
    "[Top >](#top) <a id='_pandas'></a>\n",
    "### Pandasを使った、DBからのData取得とアップロード\n",
    "- モジュールの読込  : import mysql.connector\n",
    "- ラッパー SQLAlchemy python SQL Class利用\n",
    "***\n",
    "接続エンジン作成 connection\n",
    "\n",
    "1. from sqlalchemy import create_engine\n",
    "1. engine作成\n",
    "    - engine = create_engine('mysql+mysqlconnector://{user}:{password}@{host}:{port}/{database}'.format(**db_settings))\n",
    "1. import pandas as pd\n",
    "\n",
    "### \n",
    "### pd.read_sql( sql, con, index_col=None )  : 取得\n",
    "- sql : SQL query\n",
    "- con : sqlite3コネクション、または、SQLAlchemy connectable\n",
    "- index_col=None : indexに指定する　列\n",
    "\n",
    "### df.to_sql( name, con, if_exists='fail', index=True)  : 書込\n",
    "- name : SQL table名   対象テーブル名\n",
    "- con   : sqlite3コネクション、または、SQLAlchemy connectable\n",
    "- schema=None  :  スキーマを指定します\n",
    "- if_exists='fail'  :  \n",
    "    - fail　　:  ValueError を発生\n",
    "    - replace: 存在するテーブルを削除\n",
    "    - append: I存在するテーブルに追加\n",
    "- index=True : indexを書き込むか"
   ]
  },
  {
   "cell_type": "code",
   "execution_count": null,
   "id": "d5616f84-955d-4f00-aaa3-c753d0be13b5",
   "metadata": {
    "tags": []
   },
   "outputs": [],
   "source": [
    "import mysql.connector\n",
    "from sqlalchemy import create_engine\n",
    "import pandas as pd"
   ]
  },
  {
   "cell_type": "markdown",
   "id": "122c671a-26c9-416e-b0ba-03971614ef80",
   "metadata": {},
   "source": [
    "### connection 作製\n",
    "***"
   ]
  },
  {
   "cell_type": "code",
   "execution_count": null,
   "id": "543ca9e5-972e-4817-b123-4d5b28ac015f",
   "metadata": {
    "tags": []
   },
   "outputs": [],
   "source": [
    "config = {\n",
    "    'host': 'db',              # url  \n",
    "    'port' : 3306,             # 接続ポート  \n",
    "    'user': 'user',            # ユーザー  \n",
    "    'password': 'pass',        #  パスワード  \n",
    "    'database' : 'sample'      # 初期接続DataBase  \n",
    "}\n",
    "\n",
    "# engine作成\n",
    "engine = create_engine('mysql+mysqlconnector://{user}:{password}@{host}:{port}/{database}'.format(**config))"
   ]
  },
  {
   "cell_type": "markdown",
   "id": "24cc7c11-2256-4c74-a724-f4a89fa9398a",
   "metadata": {},
   "source": [
    "### テーブルの書込\n",
    "### df.to_sql( name, con, if_exists='fail', index=True)\n",
    "***"
   ]
  },
  {
   "cell_type": "code",
   "execution_count": null,
   "id": "e4326a6d-72e1-4105-8cc2-ffee3bd8fbc2",
   "metadata": {
    "tags": []
   },
   "outputs": [],
   "source": [
    "df = pd.read_csv('data/iris.csv')\n",
    "df.head()"
   ]
  },
  {
   "cell_type": "code",
   "execution_count": null,
   "id": "686b6355-fb78-4a71-9b02-32ab25014523",
   "metadata": {
    "tags": []
   },
   "outputs": [],
   "source": [
    "# テーブルの書込\n",
    "df.to_sql( name='iris',con=engine, if_exists='replace')"
   ]
  },
  {
   "cell_type": "markdown",
   "id": "0161f65f-e0e3-420f-8f63-ca19c7ffb9ec",
   "metadata": {},
   "source": [
    "### テーブルからの読込\n",
    "### pd.read_sql( sql, con, index_col=None )"
   ]
  },
  {
   "cell_type": "code",
   "execution_count": null,
   "id": "030cedb1-d5e9-42b3-8c15-e14f6307b163",
   "metadata": {
    "tags": []
   },
   "outputs": [],
   "source": [
    "# テーブルの読込\n",
    "query = \"SELECT * FROM iris\"\n",
    "query = \"SHOW TABLES\"\n",
    "tmp = pd.read_sql(sql=query,con=engine)\n",
    "tmp"
   ]
  },
  {
   "cell_type": "code",
   "execution_count": null,
   "id": "b1711b08-779e-4e4f-b189-3fd25b86d1c2",
   "metadata": {},
   "outputs": [],
   "source": []
  },
  {
   "cell_type": "markdown",
   "id": "2b9ea63e-cc0f-40d8-a2e0-bbde620aa7cb",
   "metadata": {
    "tags": []
   },
   "source": [
    "[Top >](#_top) <a id='_pymysql'></a>\n",
    "### PyMySQL"
   ]
  },
  {
   "cell_type": "code",
   "execution_count": null,
   "id": "3c4de461-153e-454f-8ea3-97b6dde22e1a",
   "metadata": {
    "tags": []
   },
   "outputs": [],
   "source": [
    "# !pip install PyMySQL"
   ]
  },
  {
   "cell_type": "code",
   "execution_count": null,
   "id": "bd97e5a1-20df-4284-9eea-5fa22dec1e91",
   "metadata": {
    "tags": []
   },
   "outputs": [],
   "source": [
    "import pymysql.cursors"
   ]
  },
  {
   "cell_type": "code",
   "execution_count": null,
   "id": "9cf08534-f072-424b-acdb-473af027f4b4",
   "metadata": {
    "tags": []
   },
   "outputs": [],
   "source": [
    "# DBコネクション作成 : \n",
    "\n",
    "connection = pymysql.connect(host='db',\n",
    "                            user='root',\n",
    "                            password='password',\n",
    "                            database='sample',\n",
    "                            cursorclass=pymysql.cursors.DictCursor)"
   ]
  },
  {
   "cell_type": "code",
   "execution_count": null,
   "id": "d4c07631-ec27-4b7a-ad94-98cea58a5f08",
   "metadata": {
    "tags": []
   },
   "outputs": [],
   "source": [
    "with connection:\n",
    "    with connection.cursor() as cursor:\n",
    "        # Create a new record\n",
    "        sql = \"INSERT INTO `users` (`email`, `password`) VALUES (%s, %s)\"\n",
    "        cursor.execute(sql, ('webmaster@python.org', 'very-secret'))\n",
    "\n",
    "    # connection is not autocommit by default. So you must commit to save\n",
    "    # your changes.\n",
    "    connection.commit()\n",
    "\n",
    "    with connection.cursor() as cursor:\n",
    "        # Read a single record\n",
    "        sql = \"SELECT `id`, `password` FROM `users` WHERE `email`=%s\"\n",
    "        cursor.execute(sql, ('webmaster@python.org',))\n",
    "        result = cursor.fetchone()\n",
    "        print(result)"
   ]
  },
  {
   "cell_type": "code",
   "execution_count": null,
   "id": "ece47446-7915-44bc-9bb2-b5e4a5755750",
   "metadata": {
    "tags": []
   },
   "outputs": [],
   "source": [
    "values = [['webmaster1@python.org', 'very-secret1'],\n",
    "          ['webmaster2@python.org', 'very-secret2'],\n",
    "          ['webmaster3@python.org', 'very-secret3'],\n",
    "          ['webmaster4@python.org', 'very-secret4'],\n",
    "          ['webmaster5@python.org', 'very-secret5']]\n",
    " \n",
    "with connection:\n",
    "    with connection.cursor() as cursor:\n",
    "        # レコードを挿入\n",
    "        sql = \"INSERT INTO `users` (`email`, `password`) VALUES (%s, %s)\"\n",
    "        cursor.executemany(sql, values)\n",
    " \n",
    "    # コミットしてトランザク\n",
    "    connection.commit()"
   ]
  },
  {
   "cell_type": "code",
   "execution_count": null,
   "id": "47bdbbd0-7a4c-454d-b6ea-dd8876a8d3ee",
   "metadata": {},
   "outputs": [],
   "source": []
  }
 ],
 "metadata": {
  "kernelspec": {
   "display_name": "Python 3 (ipykernel)",
   "language": "python",
   "name": "python3"
  },
  "language_info": {
   "codemirror_mode": {
    "name": "ipython",
    "version": 3
   },
   "file_extension": ".py",
   "mimetype": "text/x-python",
   "name": "python",
   "nbconvert_exporter": "python",
   "pygments_lexer": "ipython3",
   "version": "3.10.9"
  }
 },
 "nbformat": 4,
 "nbformat_minor": 5
}
