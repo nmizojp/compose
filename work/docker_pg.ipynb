{
 "cells": [
  {
   "cell_type": "markdown",
   "metadata": {},
   "source": [
    "### PostgreSQL docker\n",
    "\n"
   ]
  },
  {
   "cell_type": "markdown",
   "metadata": {},
   "source": [
    "\n",
    "### ホルダー内のファイル構成\n",
    "<pre>\n",
    "├── docker_pg.ipynb  　　　　　　　　　　このファイル\n",
    "├── docker-compose.yml\n",
    "├── pgdata　　　　　                　　　　　　データベースの場所\n",
    "└── script                      　　　　　　　初期化SQL\n",
    "    ├── 01_init_database.sql\n",
    "    └── 02_init_table.sql\n",
    "</pre>"
   ]
  },
  {
   "cell_type": "code",
   "execution_count": 1,
   "metadata": {},
   "outputs": [
    {
     "name": "stdout",
     "output_type": "stream",
     "text": [
      "version: '3.1'\r\n",
      "\r\n",
      "services:\r\n",
      "\r\n",
      "  db:\r\n",
      "    image: postgres\r\n",
      "    restart: always\r\n",
      "    environment:\r\n",
      "      POSTGRES_PASSWORD: example\r\n",
      "\r\n",
      "\r\n",
      "\r\n",
      "  adminer:\r\n",
      "    image: adminer\r\n",
      "    restart: always\r\n",
      "    ports:\r\n",
      "      - 8080:8080\r\n",
      "      "
     ]
    }
   ],
   "source": [
    "!cat docker-compose.yml"
   ]
  },
  {
   "cell_type": "markdown",
   "metadata": {},
   "source": [
    "## 稼働させる up"
   ]
  },
  {
   "cell_type": "code",
   "execution_count": null,
   "metadata": {},
   "outputs": [],
   "source": [
    "!docker-compose up -d"
   ]
  },
  {
   "cell_type": "code",
   "execution_count": null,
   "metadata": {},
   "outputs": [],
   "source": [
    "!docker-compose ps\n",
    "# 状態確認"
   ]
  },
  {
   "cell_type": "code",
   "execution_count": null,
   "metadata": {},
   "outputs": [],
   "source": [
    "!docker container ls -a\n",
    "# containerの確認　コンテナ名を確認"
   ]
  },
  {
   "cell_type": "markdown",
   "metadata": {},
   "source": [
    "<img src='../img/bar.png' />\n",
    "\n",
    "- 稼働確認：DB管理PHPを開く 参照： https://www.adminer.org/\n",
    "<img src='../img/adpg.png' />\n",
    "\n",
    "## http://localhost:8080"
   ]
  },
  {
   "cell_type": "code",
   "execution_count": null,
   "metadata": {},
   "outputs": [],
   "source": [
    "!docker-compose down"
   ]
  },
  {
   "cell_type": "markdown",
   "metadata": {},
   "source": [
    "### python からのアクセス準備\n",
    "- postgresql 接続モジュールのインストール"
   ]
  },
  {
   "cell_type": "code",
   "execution_count": null,
   "metadata": {},
   "outputs": [],
   "source": [
    "# モジュール取得\n",
    "# !conda install psycopg2 -y"
   ]
  },
  {
   "cell_type": "code",
   "execution_count": null,
   "metadata": {},
   "outputs": [],
   "source": [
    "import psycopg2\n",
    "import pandas as pd"
   ]
  },
  {
   "cell_type": "code",
   "execution_count": null,
   "metadata": {},
   "outputs": [],
   "source": [
    "# 接続\n",
    "conn = psycopg2.connect(\"dbname=postgres host=localhost port=5432 user=postgres password=example\")"
   ]
  },
  {
   "cell_type": "code",
   "execution_count": null,
   "metadata": {},
   "outputs": [],
   "source": [
    "query = \"SELECT * FROM weather;\""
   ]
  },
  {
   "cell_type": "code",
   "execution_count": null,
   "metadata": {},
   "outputs": [],
   "source": [
    "\n",
    "df = pd.read_sql(sql=query, con=conn)\n",
    "df"
   ]
  },
  {
   "cell_type": "code",
   "execution_count": null,
   "metadata": {},
   "outputs": [],
   "source": []
  },
  {
   "cell_type": "code",
   "execution_count": null,
   "metadata": {},
   "outputs": [],
   "source": []
  },
  {
   "cell_type": "markdown",
   "metadata": {},
   "source": [
    "<pre>\n",
    "$ docker container exec -it db_pg_db_1 /bin/bash\n",
    "root@c63da07956c8:/# su - postgres\n",
    "postgres@c63da07956c8:~$ psql -l\n",
    "                                 List of databases\n",
    "   Name    |  Owner   | Encoding |  Collate   |   Ctype    |   Access privileges   \n",
    "-----------+----------+----------+------------+------------+-----------------------\n",
    " postgres  | postgres | UTF8     | en_US.utf8 | en_US.utf8 | \n",
    " template0 | postgres | UTF8     | en_US.utf8 | en_US.utf8 | =c/postgres          +\n",
    "           |          |          |            |            | postgres=CTc/postgres\n",
    " template1 | postgres | UTF8     | en_US.utf8 | en_US.utf8 | =c/postgres          +\n",
    "           |          |          |            |            | postgres=CTc/postgres\n",
    "(3 rows)\n",
    "\n",
    "</pre>"
   ]
  }
 ],
 "metadata": {
  "kernelspec": {
   "display_name": "Python 3",
   "language": "python",
   "name": "python3"
  },
  "language_info": {
   "codemirror_mode": {
    "name": "ipython",
    "version": 3
   },
   "file_extension": ".py",
   "mimetype": "text/x-python",
   "name": "python",
   "nbconvert_exporter": "python",
   "pygments_lexer": "ipython3",
   "version": "3.8.5"
  }
 },
 "nbformat": 4,
 "nbformat_minor": 4
}
